{
 "cells": [
  {
   "cell_type": "raw",
   "metadata": {
    "vscode": {
     "languageId": "raw"
    }
   },
   "source": [
    "---\n",
    "title: \"Assignment 2\"\n",
    "subtitle: \"STAT 201\"\n",
    "author: \"Aric Wang\"\n",
    "format:\n",
    "  html:\n",
    "    toc: true\n",
    "    embed-resources: true\n",
    "---"
   ]
  },
  {
   "cell_type": "markdown",
   "metadata": {},
   "source": [
    "### Instructions"
   ]
  },
  {
   "cell_type": "markdown",
   "metadata": {},
   "source": [
    "1. **Write your name** on the assignment.\n",
    "\n",
    "2. Write your code in the *Code* cells of the **template provided** to write solutions for the assignment. **Do not open a new notebook**, and work from scratch. Ensure that the solution is written neatly enough to understand and grade.\n",
    "\n",
    "3. Use [Quarto](https://quarto.org/docs/output-formats/html-basics.html) to print the *.ipynb* file as HTML. You will need to open the command prompt, navigate to the directory containing the file, and use the command: `quarto render filename.ipynb --to html`. Submit the HTML file.\n",
    "\n",
    "4. You may talk to a friend, discuss the questions and potential directions for solving them. However, you need to write your own solutions and code separately, and not as a group activity. Do not use AI to solve the problems.\n",
    "\n",
    "5. There are 2 points for cleanliness and organization. The breakdown is as follows:\n",
    "    - Must be an HTML file rendered using Quarto. \n",
    "    - There aren’t excessively long outputs of extraneous information (e.g. no printouts of unnecessary results without good reason, there aren’t long printouts of which iteration a loop is on, there aren’t long sections of commented-out code, etc.). There is no piece of unnecessary / redundant code, and no unnecessary / redundant text\n",
    "    - The code follows the [python style guide](https://peps.python.org/pep-0008/) for naming variables, spaces, indentation, etc.\n",
    "    - The code should be commented and clearly written with intuitive variable names. For example, use variable names such as number_input, factor, hours, instead of a,b,xyz, etc."
   ]
  },
  {
   "cell_type": "markdown",
   "metadata": {},
   "source": [
    "### Question 1 (3 points)"
   ]
  },
  {
   "cell_type": "markdown",
   "metadata": {},
   "source": [
    "a) Write a program that counts down from 5 and then prints the message \"Go\"."
   ]
  },
  {
   "cell_type": "code",
   "execution_count": 10,
   "metadata": {},
   "outputs": [
    {
     "name": "stdout",
     "output_type": "stream",
     "text": [
      "5\n",
      "4\n",
      "3\n",
      "2\n",
      "1\n",
      "Go\n"
     ]
    }
   ],
   "source": [
    "for i in range (5,0,-1):\n",
    "    print(i)\n",
    "print(\"Go\")"
   ]
  },
  {
   "cell_type": "markdown",
   "metadata": {},
   "source": [
    "b) Write a program that asks the user for an integer, then counts down from that integer and then prints the message \"Go\". Use a try-except to ensure the user entered an integer. If it is not an integer, return the message \"You must enter an integer\". Show the output of the program if the user inputs `3`. "
   ]
  },
  {
   "cell_type": "code",
   "execution_count": null,
   "metadata": {},
   "outputs": [
    {
     "name": "stdout",
     "output_type": "stream",
     "text": [
      "3\n",
      "2\n",
      "1\n",
      "Go\n"
     ]
    }
   ],
   "source": [
    "try:\n",
    "    num = int(input(\"Please input an integer:\"))\n",
    "except ValueError:\n",
    "    print(\"You must enter an integer\")\n",
    "for i in range(num, 0, -1):\n",
    "    print(i)\n",
    "print(\"Go\")"
   ]
  },
  {
   "cell_type": "markdown",
   "metadata": {},
   "source": [
    "c) Copy and modify part b to allow the user to keep entering input until they correctly enter an integer (ie: don't end after the except). Show the output of the program if the user first inputs `8.9` and then inputs `7`. "
   ]
  },
  {
   "cell_type": "code",
   "execution_count": 31,
   "metadata": {},
   "outputs": [
    {
     "name": "stdout",
     "output_type": "stream",
     "text": [
      "Please input a valid integer:\n",
      "7\n",
      "6\n",
      "5\n",
      "4\n",
      "3\n",
      "2\n",
      "1\n",
      "Go\n"
     ]
    }
   ],
   "source": [
    "while True:\n",
    "    try:\n",
    "        num = int(input(\"Please input an integer:\"))\n",
    "        \n",
    "        break\n",
    "    except ValueError:\n",
    "        print(\"Please input a valid integer:\")\n",
    "for i in range(num, 0, -1):\n",
    "    print(i)\n",
    "print(\"Go\")"
   ]
  },
  {
   "cell_type": "markdown",
   "metadata": {},
   "source": [
    "### Question 2 (2 points)"
   ]
  },
  {
   "cell_type": "markdown",
   "metadata": {},
   "source": [
    "Print a star formation as follows:\n",
    "\n",
    "                                             * \n",
    "                                             * * \n",
    "                                             * * * \n",
    "                                             * * * * \n",
    "                                             \n",
    "Ask the user to input the height of the formation first. For example, 4 should return the formation above. Show the output of the program if the user inputs `5`. "
   ]
  },
  {
   "cell_type": "code",
   "execution_count": null,
   "metadata": {},
   "outputs": [
    {
     "name": "stdout",
     "output_type": "stream",
     "text": [
      "*\n",
      "**\n",
      "***\n",
      "****\n",
      "*****\n"
     ]
    }
   ],
   "source": [
    "num = int(input(\"Please enter a valid integer:\"))\n",
    "\n",
    "for i in range(1, num + 1, 1):\n",
    "    for j in range (1, i + 1, 1):\n",
    "        print(\"*\", end = \"\")\n",
    "    print()"
   ]
  },
  {
   "cell_type": "markdown",
   "metadata": {},
   "source": [
    "### Question 3 (6 points)"
   ]
  },
  {
   "cell_type": "markdown",
   "metadata": {},
   "source": [
    "a) Write a program where you play 3 \"Rock, Paper, Scissors\" games against the computer. Simulate a random choice for the computer each game and ask the user to enter either rock, paper, or scissors. Print the number of times the user won out of 3 games. Show the output of the program after playing the game. \n",
    "\n",
    "Recall: rock beats scissors; scissors beats paper; paper beats rock.\n",
    "\n",
    "Example:\n",
    "\n",
    "                                    \"You won <num_win> out of 3 games.\""
   ]
  },
  {
   "cell_type": "code",
   "execution_count": 39,
   "metadata": {},
   "outputs": [
    {
     "name": "stdout",
     "output_type": "stream",
     "text": [
      "You chose Paper. The computer chose Paper.\n",
      "You chose Rock. The computer chose Scissors.\n",
      "You chose Rock. The computer chose Scissors.\n",
      "You won 2 out of 3 games.\n"
     ]
    }
   ],
   "source": [
    "import random as rm\n",
    "count = 0\n",
    "for i in range (0,3):\n",
    "    comp_choice = rm.choice(['rock', 'paper', 'scissors'])\n",
    "    user_input = input(\"Pick rock, paper, or scissors\").lower().strip()\n",
    "    print(f\"You chose {user_input.capitalize()}. The computer chose {comp_choice.capitalize()}.\")\n",
    "    if (user_input == 'rock' and comp_choice == 'scissors') or (user_input == 'scissors' and comp_choice == 'paper') or (user_input == 'paper' and comp_choice == 'rock'):\n",
    "        count += 1\n",
    "print(f\"You won {count} out of 3 games.\")\n",
    "\n",
    "    \n"
   ]
  },
  {
   "cell_type": "markdown",
   "metadata": {},
   "source": [
    "b) Write a program where you play \"Rock, Paper, Scissors\" games against the computer until you have won 3 games. Simulate a random choice for the computer each game and ask the user to enter either rock, paper, or scissors. Print the number of games it took to win 3 times. Show the output of the program after playing the game.\n",
    "\n",
    "Example:\n",
    "\n",
    "                                    \"You won 3 out of <num_games> games.\""
   ]
  },
  {
   "cell_type": "code",
   "execution_count": null,
   "metadata": {},
   "outputs": [
    {
     "name": "stdout",
     "output_type": "stream",
     "text": [
      "You chose Rock. The computer chose Paper.\n",
      "You chose Rock. The computer chose Scissors.\n",
      "You chose Rock. The computer chose Paper.\n",
      "You chose Rock. The computer chose Paper.\n",
      "You chose Rock. The computer chose Rock.\n",
      "You chose Rock. The computer chose Scissors.\n",
      "You chose Rock. The computer chose Scissors.\n",
      "You won 3 out of 7 games.\n"
     ]
    }
   ],
   "source": [
    "import random as rm\n",
    "count = 0\n",
    "num_games = 0\n",
    "while count < 3:\n",
    "    comp_choice = rm.choice(['rock', 'paper', 'scissors'])\n",
    "    user_input = input(\"Pick rock, paper, or scissors\").lower().strip()\n",
    "    # print(f\"You chose {user_input.capitalize()}. The computer chose {comp_choice.capitalize()}.\") used this line to make sure code worked\n",
    "    if (user_input == 'rock' and comp_choice == 'scissors') or (user_input == 'scissors' and comp_choice == 'paper') or (user_input == 'paper' and comp_choice == 'rock'):\n",
    "        count += 1\n",
    "    num_games += 1\n",
    "print(f\"You won 3 out of {num_games} games.\")"
   ]
  },
  {
   "cell_type": "markdown",
   "metadata": {},
   "source": [
    "### Question 4 (6 points)"
   ]
  },
  {
   "cell_type": "markdown",
   "metadata": {},
   "source": [
    "a) Write a program (loop) that prints all the factors of a positive integer input by the user. A factor is any positive integer that divides the number and leaves no remainder. Show the output of the program if the user inputs `24`. \n",
    "\n",
    "Example: The factors of 8 are 1, 2, 4, 8."
   ]
  },
  {
   "cell_type": "code",
   "execution_count": null,
   "metadata": {},
   "outputs": [
    {
     "name": "stdout",
     "output_type": "stream",
     "text": [
      "The factors of 24 are 1, 2, 3, 4, 6, 8, 12, 24. "
     ]
    }
   ],
   "source": [
    "num = int(input(\"Enter a positive integer:\"))\n",
    "\n",
    "print(\"The factors of \" + str(num) + \" are \", end=\"\")\n",
    "for i in range(1, num + 1, 1):\n",
    "    if i == num:\n",
    "        print(str(i) + \". \")\n",
    "    elif num % i == 0:\n",
    "        print(str(i) + \", \", end=\"\" )\n"
   ]
  },
  {
   "cell_type": "markdown",
   "metadata": {},
   "source": [
    "b) Write a **function** called `number_of_factors` that takes an integer and returns how many factors the number has. Run your function with `24` to check if it works."
   ]
  },
  {
   "cell_type": "code",
   "execution_count": 46,
   "metadata": {},
   "outputs": [
    {
     "name": "stdout",
     "output_type": "stream",
     "text": [
      "24 has 8 factors.\n"
     ]
    }
   ],
   "source": [
    "def number_of_factors(num):\n",
    "    count = 0\n",
    "    for i in range(1, num + 1, 1):\n",
    "        if num % i == 0:\n",
    "            count += 1\n",
    "    print(str(num) + \" has \" + str(count) + \" factors.\")\n",
    "number_of_factors(24)\n"
   ]
  },
  {
   "cell_type": "markdown",
   "metadata": {},
   "source": [
    "### Question 5 (6 points)"
   ]
  },
  {
   "cell_type": "markdown",
   "metadata": {},
   "source": [
    "a) Write a program (loop) that identifies whether a positive integer input by the user is prime or not. A prime number is a number whose only divisors are 1 and itself. Show the output when the program is used to check if `89` is prime or not."
   ]
  },
  {
   "cell_type": "code",
   "execution_count": null,
   "metadata": {},
   "outputs": [
    {
     "name": "stdout",
     "output_type": "stream",
     "text": [
      "This is prime.\n"
     ]
    }
   ],
   "source": [
    "import math\n",
    "num = int(input(\"Input a positive integer:\"))\n",
    "count = 0\n",
    "\n",
    "for i in range (2, int(math.sqrt(num)) + 1, 1):\n",
    "    if num / i != int(num / i):\n",
    "        count += 1\n",
    "if count == int(math.sqrt(num)) - 1:\n",
    "    print(\"This is prime.\")\n",
    "else: \n",
    "    print(\"This is not prime\")\n",
    "\n"
   ]
  },
  {
   "cell_type": "markdown",
   "metadata": {},
   "source": [
    "b) Write a **function** that checks if a positive integer is prime or not. It should take one integer input and return a boolean. Run your function with `197` to check if it works."
   ]
  },
  {
   "cell_type": "code",
   "execution_count": 44,
   "metadata": {},
   "outputs": [
    {
     "name": "stdout",
     "output_type": "stream",
     "text": [
      "This is prime.\n"
     ]
    }
   ],
   "source": [
    "import math\n",
    "def is_prime(num):\n",
    "    count = 0\n",
    "    for i in range (1, int(math.sqrt(num)) + 1, 1):\n",
    "        if num / i != int(num / i):\n",
    "            count += 1\n",
    "    if count == int(math.sqrt(num)) - 1:\n",
    "        print(\"This is prime.\")\n",
    "    else: \n",
    "        print(\"This is not prime\")\n",
    "is_prime(197)"
   ]
  },
  {
   "cell_type": "markdown",
   "metadata": {},
   "source": [
    "### Question 6 (4 points)"
   ]
  },
  {
   "cell_type": "markdown",
   "metadata": {},
   "source": [
    "Write a function that calculates the area of a rectangle. The function should have an input for length (in inches) and width (in inches). And have 2 ouputs: the area in terms of square inches and the area in terms of square feet. There are 12 inches in 1 foot. Run your function with a length of 102 inches and width of 60 inches to check if it works."
   ]
  },
  {
   "cell_type": "code",
   "execution_count": 2,
   "metadata": {},
   "outputs": [
    {
     "name": "stdout",
     "output_type": "stream",
     "text": [
      "6120.0 sq in and 42.5 sq ft\n"
     ]
    },
    {
     "data": {
      "text/plain": [
       "(6120.0, 42.5)"
      ]
     },
     "execution_count": 2,
     "metadata": {},
     "output_type": "execute_result"
    }
   ],
   "source": [
    "def area(length, width):\n",
    "    a_in = float(length) * float(width)\n",
    "    a_ft = a_in/144\n",
    "    print(f\"{a_in} sq in and {a_ft} sq ft\")\n",
    "    return a_in, a_ft\n",
    "area(102, 60)"
   ]
  },
  {
   "cell_type": "markdown",
   "metadata": {},
   "source": [
    "### Question 7 (3 points)"
   ]
  },
  {
   "cell_type": "markdown",
   "metadata": {},
   "source": [
    "Write a function that takes a word and a sentence as two string inputs and returns the number of times the word occurs in the sentence as the output.\n",
    "\n",
    "Run your function with **\"sea\"** and **“Sea shells are on the sea shore when the sea is calm.”** inputs to check if it works. Your function should work for any word and sentence. \n",
    "\n",
    "Note: at this time it does not have to differentiate a distinct word just if it appears in any form. Example: **“The sea gives me nausea.”** would return 2."
   ]
  },
  {
   "cell_type": "code",
   "execution_count": 3,
   "metadata": {},
   "outputs": [
    {
     "name": "stdout",
     "output_type": "stream",
     "text": [
      "3\n"
     ]
    }
   ],
   "source": [
    "def word_count (word, sentence):\n",
    "    print(sentence.lower().count(word.lower()))\n",
    "word_count(\"sea\", \"Sea shells are on the sea shore when the sea is calm.\")"
   ]
  }
 ],
 "metadata": {
  "kernelspec": {
   "display_name": ".venv",
   "language": "python",
   "name": "python3"
  },
  "language_info": {
   "codemirror_mode": {
    "name": "ipython",
    "version": 3
   },
   "file_extension": ".py",
   "mimetype": "text/x-python",
   "name": "python",
   "nbconvert_exporter": "python",
   "pygments_lexer": "ipython3",
   "version": "3.13.2"
  }
 },
 "nbformat": 4,
 "nbformat_minor": 4
}
