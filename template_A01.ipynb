{
 "cells": [
  {
   "cell_type": "raw",
   "metadata": {
    "vscode": {
     "languageId": "raw"
    }
   },
   "source": [
    "---\n",
    "title: \"Assignment 1\"\n",
    "subtitle: \"STAT 201\"\n",
    "author: \"Aric Wang\"\n",
    "format:\n",
    "  html:\n",
    "    toc: true\n",
    "    embed-resources: true\n",
    "jupyter: python3\n",
    "---"
   ]
  },
  {
   "cell_type": "markdown",
   "metadata": {},
   "source": [
    "## Instructions {-}\n",
    "\n",
    "1. **Write your name** on the assignment.\n",
    "\n",
    "2. Write your code in the *Code* cells of the **template provided** to write solutions for the assignment. **Do not open a new notebook**, and work from scratch. Ensure that the solution is written neatly enough to understand and grade.\n",
    "\n",
    "3. Use [Quarto](https://quarto.org/docs/output-formats/html-basics.html) to print the *.ipynb* file as HTML. You will need to open the command prompt, navigate to the directory containing the file, and use the command: `quarto render filename.ipynb --to html`. Submit the HTML file.\n",
    "\n",
    "4. You may talk to a friend, discuss the questions and potential directions for solving them. However, you need to write your own solutions and code separately, and not as a group activity. Do not use AI to solve the problems.\n",
    "\n",
    "5. If your document is not clean and organized, you can lose up to 2 points:\n",
    "\n",
    "    - Must be an HTML file rendered using Quarto. \n",
    "    - There aren’t excessively long outputs of extraneous information (e.g. no printouts of unnecessary results without good reason, there aren’t long printouts of which iteration a loop is on, there aren’t long sections of commented-out code, etc.). There is no piece of unnecessary / redundant code, and no unnecessary / redundant text\n",
    "    - The code follows the [python style guide](https://peps.python.org/pep-0008/) for naming variables, spaces, indentation, etc.\n",
    "    - The code should be commented and clearly written with intuitive variable names. For example, use variable names such as number_input, factor, hours, instead of a,b,xyz, etc.\n",
    "\n",
    "6. If your document does not include the output of your code, you may lose up to 5 points."
   ]
  },
  {
   "cell_type": "markdown",
   "metadata": {},
   "source": [
    "## Question 1 (4 points)"
   ]
  },
  {
   "cell_type": "markdown",
   "metadata": {},
   "source": [
    "a) Create a a variable called `var_float` that contains a decimal number."
   ]
  },
  {
   "cell_type": "code",
   "execution_count": 2,
   "metadata": {},
   "outputs": [],
   "source": [
    "var_float = 2.9"
   ]
  },
  {
   "cell_type": "markdown",
   "metadata": {},
   "source": [
    "b) Store a sentence as `var_sent` that reads exactly as follows: \"The square of `{}` is `{}`.\" Where the first `{}` is your `var_float` and the second `{}` is the square of that variable. Print your sentence."
   ]
  },
  {
   "cell_type": "code",
   "execution_count": 3,
   "metadata": {},
   "outputs": [
    {
     "name": "stdout",
     "output_type": "stream",
     "text": [
      "The square of 2.9 is 8.41\n"
     ]
    }
   ],
   "source": [
    "var_sent = \"The square of \" + str(var_float) + \" is \" + str(var_float**2)\n",
    "print(var_sent)"
   ]
  },
  {
   "cell_type": "markdown",
   "metadata": {},
   "source": [
    "c) Print the output of using the `count` **method** to determine how many spaces are in `var_sent`."
   ]
  },
  {
   "cell_type": "code",
   "execution_count": 4,
   "metadata": {},
   "outputs": [
    {
     "name": "stdout",
     "output_type": "stream",
     "text": [
      "5\n"
     ]
    }
   ],
   "source": [
    "print(var_sent.count(\" \"))"
   ]
  },
  {
   "cell_type": "markdown",
   "metadata": {},
   "source": [
    "d) Round your `var_float` to 0 decimal places and convert to an integer. Store this as `var_int` and print the `type` to verify this was done correctly."
   ]
  },
  {
   "cell_type": "code",
   "execution_count": 5,
   "metadata": {},
   "outputs": [
    {
     "data": {
      "text/plain": [
       "int"
      ]
     },
     "execution_count": 5,
     "metadata": {},
     "output_type": "execute_result"
    }
   ],
   "source": [
    "var_int = int(var_float)\n",
    "type(var_int)"
   ]
  },
  {
   "cell_type": "markdown",
   "metadata": {},
   "source": [
    "## Question 2 (3 points)"
   ]
  },
  {
   "cell_type": "markdown",
   "metadata": {},
   "source": [
    "Have a user input 2 Booleans (hint: must be type bool). In a **single print line**, using only `and`, `or`, `not` functions, have the output return True if both variables are the same, and False is they are different. \n",
    "\n",
    "Clarification: 1) cannot use conditional if statements 2) this must be capable of printing the correct output for any possible booleans the user could enter, not just the one example that your html will show."
   ]
  },
  {
   "cell_type": "code",
   "execution_count": 6,
   "metadata": {},
   "outputs": [
    {
     "name": "stdout",
     "output_type": "stream",
     "text": [
      "False\n"
     ]
    }
   ],
   "source": [
    "b1 = bool(int(input(\"enter a boolean (0 or 1):\")))\n",
    "b2 = bool(int(input(\"enter another boolean (0 or 1):\")))\n",
    "print((b1 and b2) or ((not b1) and (not b2)))"
   ]
  },
  {
   "cell_type": "markdown",
   "metadata": {},
   "source": [
    "## Question 3 (6 points)"
   ]
  },
  {
   "cell_type": "markdown",
   "metadata": {},
   "source": [
    "At Northwestern, email addresses are classified as follows:\n",
    "\n",
    "- **Student email addresses** end with `@u.northwestern.edu`.\n",
    "- **Professor email addresses** end with `@northwestern.edu` (but not `@u.northwestern.edu`).\n",
    "\n",
    "Write a Python program that:\n",
    "1. Asks the user how many email addresses they will enter.\n",
    "2. Prompts the user to input each email address.\n",
    "3. After all email addresses are entered:\n",
    "   - Print all professor email addresses under the heading `\"Professor Emails:\"`.\n",
    "   - Print all student email addresses under the heading `\"Student Emails:\"`.\n",
    "   - If no professor or student emails were entered, print `\"None\"` under the respective heading.\n",
    "\n",
    "### Requirements:\n",
    "- Do not use lists or other advanced data structures, since we have not covered them yet.\n",
    "- Use only basic string operations and loops.\n",
    "- **The program must handle all cases**, regardless of uppercase or lowercase in the email addresses.\n",
    "- **Trim any leading or trailing whitespace** in the user input before classifying the email.\n",
    "\n",
    "**Example Run:**\n",
    "\n",
    "How many email addresses will you be entering? 3 <br>\n",
    "Enter an email address: lshi@northwestern.edu  <br>\n",
    "Enter an email address: jackyu@u.northwestern.edu  <br>\n",
    "Enter an email address:   Alexa@u.northwestern.edu  <br>\n",
    "\n",
    "**Output:**\n",
    "\n",
    "Professor Emails: <br>\n",
    "lshi@northwestern.edu <br>\n",
    "\n",
    "Student Emails: <br>\n",
    "jackyu@u.northwestern.edu <br>\n",
    "alexa@u.northwestern.edu <br>\n"
   ]
  },
  {
   "cell_type": "code",
   "execution_count": null,
   "metadata": {},
   "outputs": [
    {
     "name": "stdout",
     "output_type": "stream",
     "text": [
      "Professor Emails:\n",
      "a\n",
      "b\n",
      "c\n",
      "l\n",
      "djwkd\n",
      "wosdjfwj\n",
      "sjiansdi\n",
      "oafiwoidnaosidno\n",
      "sdamsodnawodniasd\n",
      "\n",
      "Student Emails:\n",
      "cd@u.northwestern.edu\n",
      "qed@u.northwestern.edu\n",
      "sdjd@u.northwestern.edu\n",
      "d@u.northwestern.edu\n",
      "pasdoapwodad@u.northwestern.edu\n",
      "d@u.northwestern.edu\n"
     ]
    }
   ],
   "source": [
    "num = int(input(\"How many email addresses will you be entering?\"))\n",
    "studentEmails = \"\"\n",
    "profEmails = \"\"\n",
    "counter = 0\n",
    "while counter < num:\n",
    "    curEmail = input(\"Enter an email address:\")\n",
    "    curEmail = curEmail.lower();\n",
    "    if \"@u.northwestern.edu\" in curEmail:\n",
    "        studentEmails = studentEmails + \"\\n\" + curEmail\n",
    "    elif \"@northwestern.edu\" in curEmail:\n",
    "        profEmails = profEmails + \"\\n\" + curEmail\n",
    "    counter = counter + 1\n",
    "print(\"Professor Emails:\" + profEmails + \"\\n\")\n",
    "print(\"Student Emails:\" + studentEmails)\n"
   ]
  },
  {
   "cell_type": "markdown",
   "metadata": {},
   "source": [
    "## Question 4 (3 points)"
   ]
  },
  {
   "cell_type": "markdown",
   "metadata": {},
   "source": [
    "Write a tip calculator program that asks the user for the price of the meal and the percent tip they want to leave. Then print a sentence that displays both the tip amount and total bill. Example if meal price is 25 dollars and tip is 15 percent:\n",
    "                                   \n",
    "                                   Your tip amount is $3.75 and your total bill is $28.75."
   ]
  },
  {
   "cell_type": "code",
   "execution_count": 45,
   "metadata": {},
   "outputs": [
    {
     "name": "stdout",
     "output_type": "stream",
     "text": [
      "Your tip amount is 25.0 and your total bill is 75.0.\n"
     ]
    }
   ],
   "source": [
    "price = int(input(\"How much did the meal cost?\"))\n",
    "tip = float(input(\"How much do you want to tip?\"))\n",
    "print(\"Your tip amount is \" + str(price*tip) + \" and your total bill is \" + str(price*tip + price) + \".\")"
   ]
  },
  {
   "cell_type": "markdown",
   "metadata": {},
   "source": [
    "## Question 5 (3 points)"
   ]
  },
  {
   "cell_type": "markdown",
   "metadata": {},
   "source": [
    "Write a program that asks the user for a number of seconds and prints out how many minutes and seconds that is. Example:\n",
    "\n",
    "                                    200 seconds is 3 minutes and 20 seconds.\n",
    "                                               \n",
    "**Use only two lines of code for this question: one line for the input and one line for the print.** "
   ]
  },
  {
   "cell_type": "code",
   "execution_count": 51,
   "metadata": {},
   "outputs": [
    {
     "name": "stdout",
     "output_type": "stream",
     "text": [
      "5000 seconds is 83 minutes and 20 seconds.\n"
     ]
    }
   ],
   "source": [
    "sec = int(input(\"How many seconds do you want to input?:\"))\n",
    "print(str(sec) + \" seconds is \" + str(int(sec/60)) + \" minutes and \" + str(sec % 60) + \" seconds.\" )"
   ]
  },
  {
   "cell_type": "markdown",
   "metadata": {},
   "source": [
    "## Question 6 (4 points)"
   ]
  },
  {
   "cell_type": "markdown",
   "metadata": {},
   "source": [
    "Write a program that asks the user to enter two numbers. Have the program return one of the following messages depending on which criteria is met. \n",
    "\n",
    "\"`num1` is greater than `num2`\"; \"`num 1` is less than `num2`\"; \"`num1` is equal to `num2`\"; where `num1` and `num2` are the user inputed values.\n",
    "\n",
    "Show the output of the program with any two numbers of your choice."
   ]
  },
  {
   "cell_type": "code",
   "execution_count": 57,
   "metadata": {},
   "outputs": [
    {
     "name": "stdout",
     "output_type": "stream",
     "text": [
      "0 equals 0\n"
     ]
    }
   ],
   "source": [
    "num1 = int(input(\"Input a number:\"))\n",
    "num2 = int(input(\"Input another number:\"))\n",
    "if num1 > num2:\n",
    "    print(f\"{num1} is greater than {num2}\")\n",
    "elif num1 < num2:\n",
    "    print(f\"{num1} is less than {num2}\")\n",
    "else:\n",
    "    print(f\"{num1} equals {num2}\")"
   ]
  },
  {
   "cell_type": "markdown",
   "metadata": {},
   "source": [
    "## Question 7 (4 points)"
   ]
  },
  {
   "cell_type": "markdown",
   "metadata": {},
   "source": [
    "a) Use a **single if-elif-else** statement to print the smallest of 3 user defined numbers. Show the output of the program with any three numbers of your choice."
   ]
  },
  {
   "cell_type": "code",
   "execution_count": 10,
   "metadata": {},
   "outputs": [
    {
     "name": "stdout",
     "output_type": "stream",
     "text": [
      "10\n"
     ]
    }
   ],
   "source": [
    "a = int(input(\"Enter first number (a): \"))\n",
    "b = int(input(\"Enter second number (b): \"))\n",
    "c = int(input(\"Enter third number (c): \"))\n",
    "if a < b and a < c:\n",
    "    print(a)\n",
    "elif b < a and b < c:\n",
    "    print(b)\n",
    "else:\n",
    "    print(c)"
   ]
  },
  {
   "cell_type": "markdown",
   "metadata": {},
   "source": [
    "b) Use a **nested** conditional statement to print the smallest of 3 user defined numbers. Show the output of the program with any three numbers of your choice."
   ]
  },
  {
   "cell_type": "code",
   "execution_count": 11,
   "metadata": {},
   "outputs": [
    {
     "name": "stdout",
     "output_type": "stream",
     "text": [
      "-30000\n"
     ]
    }
   ],
   "source": [
    "a = int(input(\"Enter first number (a): \"))\n",
    "b = int(input(\"Enter second number (b): \"))\n",
    "c = int(input(\"Enter third number (c): \"))\n",
    "if a < b:\n",
    "    if a < c:\n",
    "        print(a)\n",
    "    else:\n",
    "         print(c)\n",
    "elif b < a:\n",
    "    if b < c:\n",
    "        print(b)\n",
    "    else:\n",
    "        print(c)\n"
   ]
  },
  {
   "cell_type": "markdown",
   "metadata": {},
   "source": [
    "## Question 8 (6 points)"
   ]
  },
  {
   "cell_type": "markdown",
   "metadata": {},
   "source": [
    "Write a program that asks the user to enter either rock, paper, or scissors. Use a conditional statement to determine if the user wins, loses, or ties the computer at the game \"Rock, Paper, Scissors\". Note: rock beats scissors; scissors beats paper; paper beats rock\n",
    "\n",
    "Print a meaningful sentence that includes the winner, the computer's choice, and the user's choice.\n",
    "\n",
    "- Handle case sensitivity (example: if the user enters Rock, it will still run). \n",
    "- If the user enters a word other than one of the choices, print \"Invalid choice.\". \n",
    "- Show the output of the program when the user enters Rock (capitalized)"
   ]
  },
  {
   "cell_type": "code",
   "execution_count": null,
   "metadata": {},
   "outputs": [
    {
     "name": "stdout",
     "output_type": "stream",
     "text": [
      "You chose Rock. The computer chose Paper.\n",
      "Computer wins!\n"
     ]
    }
   ],
   "source": [
    "# starter code to generate a random choice of rock, paper, scissors\n",
    "import random as rm\n",
    "comp_choice = rm.choice(['rock', 'paper', 'scissors'])\n",
    "\n",
    "user_input = input(\"Enter Rock, Paper, or Scissors: \").strip().lower()\n",
    "\n",
    "if user_input not in ['rock', 'paper', 'scissors']:\n",
    "    print(\"Invalid choice.\")\n",
    "else:\n",
    "    print(f\"You chose {user_input.capitalize()}. The computer chose {comp_choice.capitalize()}.\")\n",
    "\n",
    "    if user_input == comp_choice:\n",
    "        print(\"It's a tie!\")\n",
    "    elif (user_input == 'rock' and comp_choice == 'scissors') or \\\n",
    "         (user_input == 'scissors' and comp_choice == 'paper') or \\\n",
    "         (user_input == 'paper' and comp_choice == 'rock'):\n",
    "        print(\"You win!\")\n",
    "    else:\n",
    "        print(\"Computer wins!\")"
   ]
  },
  {
   "cell_type": "markdown",
   "metadata": {},
   "source": [
    "## Bonus (6 points)\n",
    "\n",
    "FFor all questions in this assignment that involve accepting user input:\n",
    "\n",
    "- Use a **`try-except` block** to handle cases where the user may enter invalid input (e.g., non-numeric values).\n",
    "- Implement a **loop** that repeatedly prompts the user until a valid value is provided, so the program can proceed safely.\n",
    "- To receive credit, you must **revise each applicable question** by modifying your code to include both the input loop and error handling directly in that question’s solution.\n",
    "\n",
    "Each revised question is worth **1 point**."
   ]
  },
  {
   "cell_type": "code",
   "execution_count": null,
   "metadata": {},
   "outputs": [],
   "source": [
    "#q2 bonus\n",
    "while True:\n",
    "   try:\n",
    "        b1 = bool(int(input(\"enter a boolean (0 or 1):\")))\n",
    "        b2 = bool(int(input(\"enter another boolean (0 or 1):\")))\n",
    "        print((b1 and b2) or ((not b1) and (not b2)))\n",
    "        break\n",
    "   except ValueError:\n",
    "       print(\"please enter 0 or 1\")\n"
   ]
  },
  {
   "cell_type": "code",
   "execution_count": 20,
   "metadata": {},
   "outputs": [
    {
     "name": "stdout",
     "output_type": "stream",
     "text": [
      "Invalid input! Please input an integer number:\n",
      "Professor Emails: \n",
      "None\n",
      "Student Emails: \n",
      "None\n"
     ]
    }
   ],
   "source": [
    "#q3 bonus\n",
    "profEmails = \"\"\n",
    "studentEmails = \"\"\n",
    "while True:\n",
    "    try:\n",
    "        times = int(input(\"how many email addresses will you be entering?\"))\n",
    "        for i in range (times):\n",
    "            email = input(\"Enter an Email Address:\").strip().lower()\n",
    "            if \"@u.northwestern.edu\" in email:\n",
    "                studentEmails += email + \"\\n\"\n",
    "            elif \"@northwestern.edu\" in email:\n",
    "                profEmails += email +\"\\n\"\n",
    "        break\n",
    "    except ValueError:\n",
    "        print(\"Invalid input! Please input an integer number:\")\n",
    "print (\"Professor Emails: \")\n",
    "if profEmails == \"\":\n",
    "    print(\"None\")\n",
    "else:\n",
    "    print (profEmails)\n",
    "print (\"Student Emails: \")\n",
    "if studentEmails == \"\":\n",
    "    print(\"None\")\n",
    "else:\n",
    "    print(studentEmails)"
   ]
  },
  {
   "cell_type": "code",
   "execution_count": 18,
   "metadata": {},
   "outputs": [
    {
     "name": "stdout",
     "output_type": "stream",
     "text": [
      "Please enter a positive number\n",
      "Your tip amount is 4.0 and your total bill is 24.0.\n"
     ]
    }
   ],
   "source": [
    "#q4 bonus\n",
    "while True:\n",
    "    try:\n",
    "        price = int(input(\"How much did the meal cost?\"))\n",
    "        tip = float(input(\"How much do you want to tip?\"))\n",
    "        print(\"Your tip amount is \" + str(price*tip) + \" and your total bill is \" + str(price*tip + price) + \".\")\n",
    "        break\n",
    "    except ValueError:\n",
    "        print(\"Please enter a positive number\")"
   ]
  },
  {
   "cell_type": "code",
   "execution_count": 16,
   "metadata": {},
   "outputs": [
    {
     "name": "stdout",
     "output_type": "stream",
     "text": [
      "please enter an integer\n",
      "10000 seconds is 166 minutes and 40 seconds.\n"
     ]
    }
   ],
   "source": [
    "#q5 bonus\n",
    "while True:\n",
    "    try:\n",
    "        sec = int(input(\"How many seconds do you want to input?:\"))\n",
    "        print(str(sec) + \" seconds is \" + str(int(sec/60)) + \" minutes and \" + str(sec % 60) + \" seconds.\" )\n",
    "        break\n",
    "    except ValueError:\n",
    "        print(\"please enter an integer\")"
   ]
  },
  {
   "cell_type": "code",
   "execution_count": 14,
   "metadata": {},
   "outputs": [
    {
     "name": "stdout",
     "output_type": "stream",
     "text": [
      "please enter a number\n",
      "10 is greater than 5\n"
     ]
    }
   ],
   "source": [
    "#q6 bonus\n",
    "while True:\n",
    "    try:\n",
    "        num1 = int(input(\"Input a number:\"))\n",
    "        num2 = int(input(\"Input another number:\"))\n",
    "        if num1 > num2:\n",
    "            print(f\"{num1} is greater than {num2}\")\n",
    "        elif num1 < num2:\n",
    "            print(f\"{num1} is less than {num2}\")\n",
    "        else:\n",
    "            print(f\"{num1} equals {num2}\")\n",
    "        break\n",
    "    except ValueError:\n",
    "        print(\"please enter a number\")\n",
    "    "
   ]
  },
  {
   "cell_type": "code",
   "execution_count": null,
   "metadata": {},
   "outputs": [],
   "source": [
    "#q7 bonus a)\n",
    "while True:\n",
    "    try:\n",
    "        a = int(input(\"Enter first number (a): \"))\n",
    "        b = int(input(\"Enter second number (b): \"))\n",
    "        c = int(input(\"Enter third number (c): \"))\n",
    "        break  \n",
    "    except ValueError:\n",
    "        print(\"Invalid input. Please enter numeric values only.\")\n",
    "\n",
    "if a < b and a < c:\n",
    "    print(a)\n",
    "elif b < a and b < c:\n",
    "    print(b)\n",
    "else:\n",
    "    print(c)\n",
    "#b)\n",
    "while True:\n",
    "    try:\n",
    "        a = int(input(\"Enter first number (a): \"))\n",
    "        b = int(input(\"Enter second number (b): \"))\n",
    "        c = int(input(\"Enter third number (c): \"))\n",
    "        break\n",
    "    except ValueError:\n",
    "        print(\"Invalid input. Please enter numeric values only.\")\n",
    "\n",
    "if a < b:\n",
    "    if a < c:\n",
    "        print(a)\n",
    "    else:\n",
    "        print(c)\n",
    "elif b < a:\n",
    "    if b < c:\n",
    "        print(b)\n",
    "    else:\n",
    "        print(c)"
   ]
  },
  {
   "cell_type": "code",
   "execution_count": 1,
   "metadata": {},
   "outputs": [
    {
     "name": "stdout",
     "output_type": "stream",
     "text": [
      "Invalid choice.\n",
      "Computer wins!\n"
     ]
    }
   ],
   "source": [
    "#q8 bonus\n",
    "import random as rm\n",
    "comp_choice = rm.choice(['rock', 'paper', 'scissors'])\n",
    "\n",
    "while True:\n",
    "    try:\n",
    "        user_input = input(\"Enter Rock, Paper, or Scissors: \").strip().lower()\n",
    "\n",
    "        if user_input not in ['rock', 'paper', 'scissors']:\n",
    "            print(\"Invalid choice.\")\n",
    "        else:\n",
    "            print(f\"You chose {user_input.capitalize()}. The computer chose {comp_choice.capitalize()}.\")\n",
    "\n",
    "        if user_input == comp_choice:\n",
    "            print(\"It's a tie!\")\n",
    "        elif (user_input == 'rock' and comp_choice == 'scissors') or \\\n",
    "            (user_input == 'scissors' and comp_choice == 'paper') or \\\n",
    "            (user_input == 'paper' and comp_choice == 'rock'):\n",
    "            print(\"You win!\")\n",
    "        else:\n",
    "            print(\"Computer wins!\")\n",
    "        break\n",
    "    except ValueError:\n",
    "        print(\"Something went wrong. Try again.\")"
   ]
  }
 ],
 "metadata": {
  "kernelspec": {
   "display_name": ".venv",
   "language": "python",
   "name": "python3"
  },
  "language_info": {
   "codemirror_mode": {
    "name": "ipython",
    "version": 3
   },
   "file_extension": ".py",
   "mimetype": "text/x-python",
   "name": "python",
   "nbconvert_exporter": "python",
   "pygments_lexer": "ipython3",
   "version": "3.13.2"
  }
 },
 "nbformat": 4,
 "nbformat_minor": 4
}
